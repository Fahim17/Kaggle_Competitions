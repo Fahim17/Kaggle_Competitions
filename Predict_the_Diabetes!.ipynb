{
  "nbformat": 4,
  "nbformat_minor": 0,
  "metadata": {
    "colab": {
      "name": "Predict the Diabetes!.ipynb",
      "provenance": [],
      "collapsed_sections": [],
      "authorship_tag": "ABX9TyPKnQe0TI7AaSPTHhLzO3la",
      "include_colab_link": true
    },
    "kernelspec": {
      "name": "python3",
      "display_name": "Python 3"
    },
    "accelerator": "GPU"
  },
  "cells": [
    {
      "cell_type": "markdown",
      "metadata": {
        "id": "view-in-github",
        "colab_type": "text"
      },
      "source": [
        "<a href=\"https://colab.research.google.com/github/Fahim17/Kaggle_Competitions/blob/master/Predict_the_Diabetes!.ipynb\" target=\"_parent\"><img src=\"https://colab.research.google.com/assets/colab-badge.svg\" alt=\"Open In Colab\"/></a>"
      ]
    },
    {
      "cell_type": "code",
      "metadata": {
        "id": "qUo8ejPpFHb7",
        "colab_type": "code",
        "colab": {
          "base_uri": "https://localhost:8080/",
          "height": 199
        },
        "outputId": "30d0cea1-fb1e-4a1c-8f20-c7080f4ae2a8"
      },
      "source": [
        "!mkdir -p ~/.kaggle\n",
        "!cp kaggle.json ~/.kaggle/\n",
        "!chmod 600 ~/.kaggle/kaggle.json\n",
        "!kaggle competitions download -c predict-the-diabetes"
      ],
      "execution_count": 1,
      "outputs": [
        {
          "output_type": "stream",
          "text": [
            "Warning: Looks like you're using an outdated API Version, please consider updating (server 1.5.6 / client 1.5.4)\n",
            "Downloading test.csv to /content\n",
            "\r  0% 0.00/10.7k [00:00<?, ?B/s]\n",
            "\r100% 10.7k/10.7k [00:00<00:00, 10.4MB/s]\n",
            "Downloading sample_submission.csv to /content\n",
            "\r  0% 0.00/2.04k [00:00<?, ?B/s]\n",
            "\r100% 2.04k/2.04k [00:00<00:00, 2.16MB/s]\n",
            "Downloading train.csv to /content\n",
            "\r  0% 0.00/17.7k [00:00<?, ?B/s]\n",
            "\r100% 17.7k/17.7k [00:00<00:00, 18.0MB/s]\n"
          ],
          "name": "stdout"
        }
      ]
    },
    {
      "cell_type": "code",
      "metadata": {
        "id": "f0QfVO-VFlPP",
        "colab_type": "code",
        "colab": {
          "base_uri": "https://localhost:8080/",
          "height": 73
        },
        "outputId": "8202fc9e-1310-4ff5-c06e-d882cabb29bf"
      },
      "source": [
        "import pandas as pd\n",
        "import matplotlib.pyplot as plt\n",
        "import seaborn as sns\n",
        "import numpy as np\n",
        "from sklearn import preprocessing\n",
        "\n",
        "import torch\n",
        "from torch.utils.data import Dataset, DataLoader\n",
        "import torch.nn as nn\n",
        "import torch.nn.functional as F\n",
        "from torch.optim import Adam, SGD\n",
        "from torchvision import transforms\n",
        "\n",
        "%matplotlib inline"
      ],
      "execution_count": 2,
      "outputs": [
        {
          "output_type": "stream",
          "text": [
            "/usr/local/lib/python3.6/dist-packages/statsmodels/tools/_testing.py:19: FutureWarning: pandas.util.testing is deprecated. Use the functions in the public API at pandas.testing instead.\n",
            "  import pandas.util.testing as tm\n"
          ],
          "name": "stderr"
        }
      ]
    },
    {
      "cell_type": "code",
      "metadata": {
        "id": "RBBeZjr8F8kY",
        "colab_type": "code",
        "colab": {
          "base_uri": "https://localhost:8080/",
          "height": 553
        },
        "outputId": "7406e3b0-9878-4121-b166-b0c03759827b"
      },
      "source": [
        "data = pd.read_csv('train.csv')\n",
        "train_col = ['Pregnancies','Glucose','BloodPressure','SkinThickness','Insulin','BMI','DiabetesPedigreeFunction','Age']\n",
        "train_x = data[train_col]\n",
        "train_y = data['Outcome']\n",
        "\n",
        "# min_max_scaler = preprocessing.MinMaxScaler()\n",
        "\n",
        "\n",
        "col_x = data[\"Pregnancies\"].values.astype(float)\n",
        "col_std = np.std(col_x)\n",
        "col_mean = np.mean(col_x)\n",
        "col_x_scaled = (col_x-col_mean)/col_std\n",
        "# col_x_scaled = min_max_scaler.fit_transform(col_x)\n",
        "train_x[\"Pregnancies\"] = col_x_scaled\n",
        "train_x"
      ],
      "execution_count": 3,
      "outputs": [
        {
          "output_type": "stream",
          "text": [
            "/usr/local/lib/python3.6/dist-packages/ipykernel_launcher.py:14: SettingWithCopyWarning: \n",
            "A value is trying to be set on a copy of a slice from a DataFrame.\n",
            "Try using .loc[row_indexer,col_indexer] = value instead\n",
            "\n",
            "See the caveats in the documentation: https://pandas.pydata.org/pandas-docs/stable/user_guide/indexing.html#returning-a-view-versus-a-copy\n",
            "  \n"
          ],
          "name": "stderr"
        },
        {
          "output_type": "execute_result",
          "data": {
            "text/html": [
              "<div>\n",
              "<style scoped>\n",
              "    .dataframe tbody tr th:only-of-type {\n",
              "        vertical-align: middle;\n",
              "    }\n",
              "\n",
              "    .dataframe tbody tr th {\n",
              "        vertical-align: top;\n",
              "    }\n",
              "\n",
              "    .dataframe thead th {\n",
              "        text-align: right;\n",
              "    }\n",
              "</style>\n",
              "<table border=\"1\" class=\"dataframe\">\n",
              "  <thead>\n",
              "    <tr style=\"text-align: right;\">\n",
              "      <th></th>\n",
              "      <th>Pregnancies</th>\n",
              "      <th>Glucose</th>\n",
              "      <th>BloodPressure</th>\n",
              "      <th>SkinThickness</th>\n",
              "      <th>Insulin</th>\n",
              "      <th>BMI</th>\n",
              "      <th>DiabetesPedigreeFunction</th>\n",
              "      <th>Age</th>\n",
              "    </tr>\n",
              "  </thead>\n",
              "  <tbody>\n",
              "    <tr>\n",
              "      <th>0</th>\n",
              "      <td>0.580194</td>\n",
              "      <td>148</td>\n",
              "      <td>72</td>\n",
              "      <td>35</td>\n",
              "      <td>0</td>\n",
              "      <td>33.6</td>\n",
              "      <td>0.627</td>\n",
              "      <td>50</td>\n",
              "    </tr>\n",
              "    <tr>\n",
              "      <th>1</th>\n",
              "      <td>1.169878</td>\n",
              "      <td>183</td>\n",
              "      <td>64</td>\n",
              "      <td>0</td>\n",
              "      <td>0</td>\n",
              "      <td>23.3</td>\n",
              "      <td>0.672</td>\n",
              "      <td>32</td>\n",
              "    </tr>\n",
              "    <tr>\n",
              "      <th>2</th>\n",
              "      <td>-0.894017</td>\n",
              "      <td>89</td>\n",
              "      <td>66</td>\n",
              "      <td>23</td>\n",
              "      <td>94</td>\n",
              "      <td>28.1</td>\n",
              "      <td>0.167</td>\n",
              "      <td>21</td>\n",
              "    </tr>\n",
              "    <tr>\n",
              "      <th>3</th>\n",
              "      <td>1.759562</td>\n",
              "      <td>115</td>\n",
              "      <td>0</td>\n",
              "      <td>0</td>\n",
              "      <td>0</td>\n",
              "      <td>35.3</td>\n",
              "      <td>0.134</td>\n",
              "      <td>29</td>\n",
              "    </tr>\n",
              "    <tr>\n",
              "      <th>4</th>\n",
              "      <td>-0.599175</td>\n",
              "      <td>197</td>\n",
              "      <td>70</td>\n",
              "      <td>45</td>\n",
              "      <td>543</td>\n",
              "      <td>30.5</td>\n",
              "      <td>0.158</td>\n",
              "      <td>53</td>\n",
              "    </tr>\n",
              "    <tr>\n",
              "      <th>...</th>\n",
              "      <td>...</td>\n",
              "      <td>...</td>\n",
              "      <td>...</td>\n",
              "      <td>...</td>\n",
              "      <td>...</td>\n",
              "      <td>...</td>\n",
              "      <td>...</td>\n",
              "      <td>...</td>\n",
              "    </tr>\n",
              "    <tr>\n",
              "      <th>461</th>\n",
              "      <td>-0.599175</td>\n",
              "      <td>88</td>\n",
              "      <td>58</td>\n",
              "      <td>26</td>\n",
              "      <td>16</td>\n",
              "      <td>28.4</td>\n",
              "      <td>0.766</td>\n",
              "      <td>22</td>\n",
              "    </tr>\n",
              "    <tr>\n",
              "      <th>462</th>\n",
              "      <td>1.464720</td>\n",
              "      <td>170</td>\n",
              "      <td>74</td>\n",
              "      <td>31</td>\n",
              "      <td>0</td>\n",
              "      <td>44.0</td>\n",
              "      <td>0.403</td>\n",
              "      <td>43</td>\n",
              "    </tr>\n",
              "    <tr>\n",
              "      <th>463</th>\n",
              "      <td>1.464720</td>\n",
              "      <td>89</td>\n",
              "      <td>62</td>\n",
              "      <td>0</td>\n",
              "      <td>0</td>\n",
              "      <td>22.5</td>\n",
              "      <td>0.142</td>\n",
              "      <td>33</td>\n",
              "    </tr>\n",
              "    <tr>\n",
              "      <th>464</th>\n",
              "      <td>1.759562</td>\n",
              "      <td>101</td>\n",
              "      <td>76</td>\n",
              "      <td>48</td>\n",
              "      <td>180</td>\n",
              "      <td>32.9</td>\n",
              "      <td>0.171</td>\n",
              "      <td>63</td>\n",
              "    </tr>\n",
              "    <tr>\n",
              "      <th>465</th>\n",
              "      <td>-0.894017</td>\n",
              "      <td>126</td>\n",
              "      <td>60</td>\n",
              "      <td>0</td>\n",
              "      <td>0</td>\n",
              "      <td>30.1</td>\n",
              "      <td>0.349</td>\n",
              "      <td>47</td>\n",
              "    </tr>\n",
              "  </tbody>\n",
              "</table>\n",
              "<p>466 rows × 8 columns</p>\n",
              "</div>"
            ],
            "text/plain": [
              "     Pregnancies  Glucose  BloodPressure  ...   BMI  DiabetesPedigreeFunction  Age\n",
              "0       0.580194      148             72  ...  33.6                     0.627   50\n",
              "1       1.169878      183             64  ...  23.3                     0.672   32\n",
              "2      -0.894017       89             66  ...  28.1                     0.167   21\n",
              "3       1.759562      115              0  ...  35.3                     0.134   29\n",
              "4      -0.599175      197             70  ...  30.5                     0.158   53\n",
              "..           ...      ...            ...  ...   ...                       ...  ...\n",
              "461    -0.599175       88             58  ...  28.4                     0.766   22\n",
              "462     1.464720      170             74  ...  44.0                     0.403   43\n",
              "463     1.464720       89             62  ...  22.5                     0.142   33\n",
              "464     1.759562      101             76  ...  32.9                     0.171   63\n",
              "465    -0.894017      126             60  ...  30.1                     0.349   47\n",
              "\n",
              "[466 rows x 8 columns]"
            ]
          },
          "metadata": {
            "tags": []
          },
          "execution_count": 3
        }
      ]
    },
    {
      "cell_type": "code",
      "metadata": {
        "id": "bTEdo-cClyOs",
        "colab_type": "code",
        "colab": {
          "base_uri": "https://localhost:8080/",
          "height": 812
        },
        "outputId": "6ab4645c-9a80-4d30-bd6f-2632cba749b3"
      },
      "source": [
        "# for col in train_col:\n",
        "#   # if col =='Age': \n",
        "#   #   continue\n",
        "#   print(f'processing column {col}')\n",
        "#   col_x = data[col].values.astype(float)\n",
        "#   col_std = np.std(col_x)\n",
        "#   col_mean = np.mean(col_x)\n",
        "#   col_x_scaled = (col_x-col_mean)/col_std\n",
        "#   data[col] = col_x_scaled\n",
        "\n",
        "corr = data.corr()\n",
        "print(corr)\n",
        "\n",
        "import seaborn as sn\n",
        "import matplotlib.pyplot as plt\n",
        "plt.figure(figsize=(20,10))\n",
        "sn.heatmap(corr, annot=True)\n",
        "plt.show()"
      ],
      "execution_count": 4,
      "outputs": [
        {
          "output_type": "stream",
          "text": [
            "                          Pregnancies   Glucose  ...   Outcome        Id\n",
            "Pregnancies                  1.000000  0.144798  ...  0.245790 -0.036067\n",
            "Glucose                      0.144798  1.000000  ...  0.462225  0.000631\n",
            "BloodPressure                0.185053  0.101713  ...  0.026824  0.029407\n",
            "SkinThickness               -0.108061  0.042815  ...  0.055047 -0.001977\n",
            "Insulin                     -0.074614  0.326777  ...  0.114341  0.023472\n",
            "BMI                          0.013181  0.208530  ...  0.284855  0.019808\n",
            "DiabetesPedigreeFunction    -0.059920  0.175660  ...  0.184296 -0.026599\n",
            "Age                          0.577494  0.271597  ...  0.250254  0.007302\n",
            "Outcome                      0.245790  0.462225  ...  1.000000 -0.049880\n",
            "Id                          -0.036067  0.000631  ... -0.049880  1.000000\n",
            "\n",
            "[10 rows x 10 columns]\n"
          ],
          "name": "stdout"
        },
        {
          "output_type": "display_data",
          "data": {
            "image/png": "[encoded data removed]",
            "text/plain": [
              "<Figure size 1440x720 with 2 Axes>"
            ]
          },
          "metadata": {
            "tags": [],
            "needs_background": "light"
          }
        }
      ]
    },
    {
      "cell_type": "code",
      "metadata": {
        "id": "vyoU2lmmGGpg",
        "colab_type": "code",
        "colab": {}
      },
      "source": [
        "class diabetes_dataset(Dataset):\n",
        "  def __init__(self, train_csv = None, istest = False):\n",
        "    self.csv_file = pd.read_csv(train_csv)\n",
        "    self.train_col = ['Pregnancies','Glucose','Insulin','BMI','DiabetesPedigreeFunction','Age']\n",
        "    # self.train_col = ['Glucose', 'Age']\n",
        "    self.istest = istest\n",
        "\n",
        "    for col in self.train_col:\n",
        "      # if col =='Age': \n",
        "      #   continue\n",
        "      print(f'processing column {col}')\n",
        "      col_x = self.csv_file[col].values.astype(float)\n",
        "      col_std = np.std(col_x)\n",
        "      col_mean = np.mean(col_x)\n",
        "      col_x_scaled = (col_x-col_mean)/col_std\n",
        "      self.csv_file[col] = col_x_scaled\n",
        "    print(self.csv_file.head())\n",
        " \n",
        "\n",
        "  def __len__(self):\n",
        "    return self.csv_file.shape[0]\n",
        "\n",
        "  def __getitem__(self, idx):\n",
        "    X = self.csv_file[self.train_col].iloc[idx]\n",
        "    X = torch.tensor(X).float()\n",
        "\n",
        "    if (not self.istest):\n",
        "      y = self.csv_file['Outcome'].iloc[idx]\n",
        "      y = torch.tensor(y).float()\n",
        "\n",
        "    if (not self.istest):\n",
        "      return X, y\n",
        "    elif(self.istest):\n",
        "      return X\n",
        "    else:\n",
        "      return 'wrong wrong wrong'\n",
        "\n"
      ],
      "execution_count": 5,
      "outputs": []
    },
    {
      "cell_type": "code",
      "metadata": {
        "id": "goEuIVe_QLoV",
        "colab_type": "code",
        "colab": {
          "base_uri": "https://localhost:8080/",
          "height": 271
        },
        "outputId": "eb8f73b5-1e19-41fe-b741-36e7140dc9ef"
      },
      "source": [
        "dst1 = diabetes_dataset('train.csv', istest = False)\n",
        "data_loader = DataLoader(dst1, batch_size = 30, shuffle=True)\n",
        "\n"
      ],
      "execution_count": 6,
      "outputs": [
        {
          "output_type": "stream",
          "text": [
            "processing column Pregnancies\n",
            "processing column Glucose\n",
            "processing column Insulin\n",
            "processing column BMI\n",
            "processing column DiabetesPedigreeFunction\n",
            "processing column Age\n",
            "   Pregnancies   Glucose  BloodPressure  ...       Age  Outcome  Id\n",
            "0     0.580194  0.797697             72  ...  1.468113        1   0\n",
            "1     1.169878  1.875522             64  ... -0.105428        1   2\n",
            "2    -0.894017 -1.019209             66  ... -1.067036        0   3\n",
            "3     1.759562 -0.218539              0  ... -0.367685        0   7\n",
            "4    -0.599175  2.306652             70  ...  1.730370        1   8\n",
            "\n",
            "[5 rows x 10 columns]\n"
          ],
          "name": "stdout"
        }
      ]
    },
    {
      "cell_type": "code",
      "metadata": {
        "id": "9AIc68u7XcOn",
        "colab_type": "code",
        "colab": {}
      },
      "source": [
        "class fullConnectNN(nn.Module):\n",
        "  def __init__(self, num_input):\n",
        "    super(fullConnectNN,self).__init__()\n",
        "    \n",
        "    self.fc1 = nn.Linear(num_input, 1)\n",
        "    # self.fc2 = nn.Linear(128, 64)\n",
        "    # self.fc3 = nn.Linear(64, 1)\n",
        "    # self.dropout = nn.Dropout(p=0.3)\n",
        "\n",
        "\n",
        "  def forward(self, x):\n",
        "    # x = self.dropout(F.relu(self.fc1(x)))\n",
        "    # x = self.dropout(F.relu(self.fc2(x)))\n",
        "    x = F.sigmoid(self.fc1(x))\n",
        "\n",
        "    return x"
      ],
      "execution_count": 7,
      "outputs": []
    },
    {
      "cell_type": "code",
      "metadata": {
        "id": "9RSnARzzeH2f",
        "colab_type": "code",
        "colab": {
          "base_uri": "https://localhost:8080/",
          "height": 72
        },
        "outputId": "a9d363ba-aa15-4b9f-e68c-58d981ae6209"
      },
      "source": [
        "model = fullConnectNN(num_input=6)\n",
        "print(model)"
      ],
      "execution_count": 15,
      "outputs": [
        {
          "output_type": "stream",
          "text": [
            "fullConnectNN(\n",
            "  (fc1): Linear(in_features=6, out_features=1, bias=True)\n",
            ")\n"
          ],
          "name": "stdout"
        }
      ]
    },
    {
      "cell_type": "code",
      "metadata": {
        "id": "PVY9XoAWebHM",
        "colab_type": "code",
        "colab": {}
      },
      "source": [
        "import torch.optim as optim\n",
        "\n",
        "# criterion = nn.BCELoss()\n",
        "criterion = nn.MSELoss()\n",
        "# optimizer = optim.SGD(model.parameters(), lr=0.01, momentum=0.9)\n",
        "optimizer = optim.Adam(model.parameters(), lr=0.1)"
      ],
      "execution_count": 20,
      "outputs": []
    },
    {
      "cell_type": "code",
      "metadata": {
        "id": "rnH1JWr9ehN8",
        "colab_type": "code",
        "colab": {
          "base_uri": "https://localhost:8080/",
          "height": 509
        },
        "outputId": "a670b4a4-84b5-416b-987e-bbf69ce1c890"
      },
      "source": [
        "for epoch in range(10):  # loop over the dataset multiple times\n",
        "    print(f'Running epoch {epoch}')\n",
        "    running_loss = 0.0\n",
        "    batch_no =0\n",
        "    for data, label in data_loader:\n",
        "       \n",
        "        optimizer.zero_grad()\n",
        "        \n",
        "        outputs = model(data)\n",
        "        # print(outputs)    \n",
        "        loss = criterion(outputs, label)\n",
        "        loss.backward()\n",
        "        optimizer.step()\n",
        "        \n",
        "        running_loss += loss.item()\n",
        "        batch_no+=1\n",
        "        \n",
        "        # if batch_no%2 ==0:\n",
        "        #     # print(f'Running epoch {epoch}, batch no {batch_no}')\n",
        "        #     print(f'total loss after {batch_no} batches ---- Loss: {running_loss}')\n",
        "            # running_loss = 0\n",
        "\n",
        "    print(f'Loss: {running_loss}')\n",
        "            \n"
      ],
      "execution_count": 22,
      "outputs": [
        {
          "output_type": "stream",
          "text": [
            "Running epoch 0\n"
          ],
          "name": "stdout"
        },
        {
          "output_type": "stream",
          "text": [
            "/usr/local/lib/python3.6/dist-packages/torch/nn/functional.py:1569: UserWarning: nn.functional.sigmoid is deprecated. Use torch.sigmoid instead.\n",
            "  warnings.warn(\"nn.functional.sigmoid is deprecated. Use torch.sigmoid instead.\")\n",
            "/usr/local/lib/python3.6/dist-packages/torch/nn/modules/loss.py:432: UserWarning: Using a target size (torch.Size([30])) that is different to the input size (torch.Size([30, 1])). This will likely lead to incorrect results due to broadcasting. Please ensure they have the same size.\n",
            "  return F.mse_loss(input, target, reduction=self.reduction)\n",
            "/usr/local/lib/python3.6/dist-packages/torch/nn/modules/loss.py:432: UserWarning: Using a target size (torch.Size([16])) that is different to the input size (torch.Size([16, 1])). This will likely lead to incorrect results due to broadcasting. Please ensure they have the same size.\n",
            "  return F.mse_loss(input, target, reduction=self.reduction)\n"
          ],
          "name": "stderr"
        },
        {
          "output_type": "stream",
          "text": [
            "Loss: 3.763739228248596\n",
            "Running epoch 1\n",
            "Loss: 3.787232995033264\n",
            "Running epoch 2\n",
            "Loss: 3.785004287958145\n",
            "Running epoch 3\n",
            "Loss: 3.837301552295685\n",
            "Running epoch 4\n",
            "Loss: 3.776236891746521\n",
            "Running epoch 5\n",
            "Loss: 3.819910705089569\n",
            "Running epoch 6\n",
            "Loss: 3.796562060713768\n",
            "Running epoch 7\n",
            "Loss: 3.753693699836731\n",
            "Running epoch 8\n",
            "Loss: 3.7786422967910767\n",
            "Running epoch 9\n",
            "Loss: 3.7853976488113403\n"
          ],
          "name": "stdout"
        }
      ]
    },
    {
      "cell_type": "code",
      "metadata": {
        "id": "vTeUx7jhfFna",
        "colab_type": "code",
        "colab": {
          "base_uri": "https://localhost:8080/",
          "height": 419
        },
        "outputId": "4a34b482-d192-468a-86b9-4d2ebd2bb086"
      },
      "source": [
        "dst_test = diabetes_dataset('test.csv', istest = True)\n",
        "sub = pd.read_csv('sample_submission.csv')\n",
        "\n",
        "for i in range(dst_test.__len__()):\n",
        "  sub.Outcome.iloc[i] = float(model(dst_test[i]))\n",
        "sub.to_csv('result.csv', index=False)\n"
      ],
      "execution_count": 18,
      "outputs": [
        {
          "output_type": "stream",
          "text": [
            "processing column Pregnancies\n",
            "processing column Glucose\n",
            "processing column Insulin\n",
            "processing column BMI\n",
            "processing column DiabetesPedigreeFunction\n",
            "processing column Age\n",
            "   Pregnancies   Glucose  BloodPressure  ...  DiabetesPedigreeFunction       Age  Id\n",
            "0    -0.772550 -1.096656             66  ...                 -0.340413 -0.187779   1\n",
            "1    -1.074766  0.578625             40  ...                  5.275452 -0.024116   4\n",
            "2     0.436311 -0.097931             74  ...                 -0.775302 -0.269611   5\n",
            "3    -0.168120 -1.322174             50  ...                 -0.639037 -0.596937   6\n",
            "4     1.342957  0.192021             96  ...                 -0.685425  1.694348   9\n",
            "\n",
            "[5 rows x 9 columns]\n"
          ],
          "name": "stdout"
        },
        {
          "output_type": "stream",
          "text": [
            "/usr/local/lib/python3.6/dist-packages/torch/nn/functional.py:1569: UserWarning: nn.functional.sigmoid is deprecated. Use torch.sigmoid instead.\n",
            "  warnings.warn(\"nn.functional.sigmoid is deprecated. Use torch.sigmoid instead.\")\n",
            "/usr/local/lib/python3.6/dist-packages/pandas/core/indexing.py:671: SettingWithCopyWarning: \n",
            "A value is trying to be set on a copy of a slice from a DataFrame\n",
            "\n",
            "See the caveats in the documentation: https://pandas.pydata.org/pandas-docs/stable/user_guide/indexing.html#returning-a-view-versus-a-copy\n",
            "  self._setitem_with_indexer(indexer, value)\n"
          ],
          "name": "stderr"
        }
      ]
    },
    {
      "cell_type": "code",
      "metadata": {
        "id": "Zja2QBjvGhUd",
        "colab_type": "code",
        "colab": {
          "base_uri": "https://localhost:8080/",
          "height": 424
        },
        "outputId": "60a4d2ea-5e6d-46d0-c2f2-3da79338ee68"
      },
      "source": [
        "sub"
      ],
      "execution_count": 19,
      "outputs": [
        {
          "output_type": "execute_result",
          "data": {
            "text/html": [
              "<div>\n",
              "<style scoped>\n",
              "    .dataframe tbody tr th:only-of-type {\n",
              "        vertical-align: middle;\n",
              "    }\n",
              "\n",
              "    .dataframe tbody tr th {\n",
              "        vertical-align: top;\n",
              "    }\n",
              "\n",
              "    .dataframe thead th {\n",
              "        text-align: right;\n",
              "    }\n",
              "</style>\n",
              "<table border=\"1\" class=\"dataframe\">\n",
              "  <thead>\n",
              "    <tr style=\"text-align: right;\">\n",
              "      <th></th>\n",
              "      <th>Id</th>\n",
              "      <th>Outcome</th>\n",
              "    </tr>\n",
              "  </thead>\n",
              "  <tbody>\n",
              "    <tr>\n",
              "      <th>0</th>\n",
              "      <td>1</td>\n",
              "      <td>0.481812</td>\n",
              "    </tr>\n",
              "    <tr>\n",
              "      <th>1</th>\n",
              "      <td>4</td>\n",
              "      <td>0.503168</td>\n",
              "    </tr>\n",
              "    <tr>\n",
              "      <th>2</th>\n",
              "      <td>5</td>\n",
              "      <td>0.459190</td>\n",
              "    </tr>\n",
              "    <tr>\n",
              "      <th>3</th>\n",
              "      <td>6</td>\n",
              "      <td>0.446223</td>\n",
              "    </tr>\n",
              "    <tr>\n",
              "      <th>4</th>\n",
              "      <td>9</td>\n",
              "      <td>0.559588</td>\n",
              "    </tr>\n",
              "    <tr>\n",
              "      <th>...</th>\n",
              "      <td>...</td>\n",
              "      <td>...</td>\n",
              "    </tr>\n",
              "    <tr>\n",
              "      <th>297</th>\n",
              "      <td>758</td>\n",
              "      <td>0.439598</td>\n",
              "    </tr>\n",
              "    <tr>\n",
              "      <th>298</th>\n",
              "      <td>759</td>\n",
              "      <td>0.500377</td>\n",
              "    </tr>\n",
              "    <tr>\n",
              "      <th>299</th>\n",
              "      <td>764</td>\n",
              "      <td>0.443099</td>\n",
              "    </tr>\n",
              "    <tr>\n",
              "      <th>300</th>\n",
              "      <td>765</td>\n",
              "      <td>0.458471</td>\n",
              "    </tr>\n",
              "    <tr>\n",
              "      <th>301</th>\n",
              "      <td>767</td>\n",
              "      <td>0.455951</td>\n",
              "    </tr>\n",
              "  </tbody>\n",
              "</table>\n",
              "<p>302 rows × 2 columns</p>\n",
              "</div>"
            ],
            "text/plain": [
              "      Id   Outcome\n",
              "0      1  0.481812\n",
              "1      4  0.503168\n",
              "2      5  0.459190\n",
              "3      6  0.446223\n",
              "4      9  0.559588\n",
              "..   ...       ...\n",
              "297  758  0.439598\n",
              "298  759  0.500377\n",
              "299  764  0.443099\n",
              "300  765  0.458471\n",
              "301  767  0.455951\n",
              "\n",
              "[302 rows x 2 columns]"
            ]
          },
          "metadata": {
            "tags": []
          },
          "execution_count": 19
        }
      ]
    },
    {
      "cell_type": "code",
      "metadata": {
        "id": "tXxn-GhYM96t",
        "colab_type": "code",
        "colab": {}
      },
      "source": [
        ""
      ],
      "execution_count": 12,
      "outputs": []
    }
  ]
}